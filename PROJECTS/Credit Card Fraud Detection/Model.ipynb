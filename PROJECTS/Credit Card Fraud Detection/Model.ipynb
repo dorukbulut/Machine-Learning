{
 "cells": [
  {
   "cell_type": "code",
   "execution_count": 1,
   "id": "0fd9bead",
   "metadata": {},
   "outputs": [],
   "source": [
    "import numpy as np\n",
    "import tensorflow as tf"
   ]
  },
  {
   "cell_type": "markdown",
   "id": "e6d4270e",
   "metadata": {},
   "source": [
    "## Loading the Data"
   ]
  },
  {
   "cell_type": "code",
   "execution_count": 2,
   "id": "0e9a3c1a",
   "metadata": {},
   "outputs": [],
   "source": [
    "training_data = np.load(\"fraud_data_train.npz\")\n",
    "train_inputs = training_data[\"inputs\"].astype(np.float64)\n",
    "train_targets = training_data[\"targets\"].astype(np.int32)\n",
    "\n",
    "validation_data = np.load(\"fraud_data_validation.npz\")\n",
    "validation_inputs = validation_data[\"inputs\"].astype(np.float64)\n",
    "validation_targets = validation_data[\"targets\"].astype(np.int32)\n",
    "\n",
    "test_data = np.load(\"fraud_data_test.npz\")\n",
    "test_inputs = test_data[\"inputs\"].astype(np.float64)\n",
    "test_targets = test_data[\"targets\"].astype(np.int32)"
   ]
  },
  {
   "cell_type": "markdown",
   "id": "2d294650",
   "metadata": {},
   "source": [
    "## Model"
   ]
  },
  {
   "cell_type": "code",
   "execution_count": 10,
   "id": "7058a5e5",
   "metadata": {},
   "outputs": [
    {
     "name": "stdout",
     "output_type": "stream",
     "text": [
      "Epoch 1/100\n",
      "12/12 - 1s - loss: 0.4576 - Accuracy: 0.8958 - val_loss: 0.2714 - val_Accuracy: 0.9286 - 635ms/epoch - 53ms/step\n",
      "Epoch 2/100\n",
      "12/12 - 0s - loss: 0.1931 - Accuracy: 0.9416 - val_loss: 0.1536 - val_Accuracy: 0.9490 - 36ms/epoch - 3ms/step\n",
      "Epoch 3/100\n",
      "12/12 - 0s - loss: 0.1032 - Accuracy: 0.9708 - val_loss: 0.1075 - val_Accuracy: 0.9592 - 36ms/epoch - 3ms/step\n",
      "Epoch 4/100\n",
      "12/12 - 0s - loss: 0.0609 - Accuracy: 0.9797 - val_loss: 0.1041 - val_Accuracy: 0.9694 - 36ms/epoch - 3ms/step\n",
      "Epoch 5/100\n",
      "12/12 - 0s - loss: 0.0417 - Accuracy: 0.9848 - val_loss: 0.0926 - val_Accuracy: 0.9694 - 36ms/epoch - 3ms/step\n",
      "Epoch 6/100\n",
      "12/12 - 0s - loss: 0.0309 - Accuracy: 0.9898 - val_loss: 0.0928 - val_Accuracy: 0.9694 - 50ms/epoch - 4ms/step\n",
      "Epoch 7/100\n",
      "12/12 - 0s - loss: 0.0234 - Accuracy: 0.9936 - val_loss: 0.0739 - val_Accuracy: 0.9694 - 45ms/epoch - 4ms/step\n",
      "Epoch 8/100\n",
      "12/12 - 0s - loss: 0.0185 - Accuracy: 0.9975 - val_loss: 0.0666 - val_Accuracy: 0.9694 - 47ms/epoch - 4ms/step\n",
      "Epoch 9/100\n",
      "12/12 - 0s - loss: 0.0152 - Accuracy: 0.9975 - val_loss: 0.0534 - val_Accuracy: 0.9694 - 50ms/epoch - 4ms/step\n",
      "Epoch 10/100\n",
      "12/12 - 0s - loss: 0.0113 - Accuracy: 0.9987 - val_loss: 0.0483 - val_Accuracy: 0.9796 - 46ms/epoch - 4ms/step\n",
      "Epoch 11/100\n",
      "12/12 - 0s - loss: 0.0081 - Accuracy: 0.9987 - val_loss: 0.0440 - val_Accuracy: 0.9796 - 47ms/epoch - 4ms/step\n",
      "Epoch 12/100\n",
      "12/12 - 0s - loss: 0.0064 - Accuracy: 0.9987 - val_loss: 0.0354 - val_Accuracy: 0.9796 - 45ms/epoch - 4ms/step\n",
      "Epoch 13/100\n",
      "12/12 - 0s - loss: 0.0045 - Accuracy: 0.9987 - val_loss: 0.0382 - val_Accuracy: 0.9796 - 45ms/epoch - 4ms/step\n",
      "Epoch 14/100\n",
      "12/12 - 0s - loss: 0.0033 - Accuracy: 1.0000 - val_loss: 0.0335 - val_Accuracy: 0.9796 - 45ms/epoch - 4ms/step\n",
      "Epoch 15/100\n",
      "12/12 - 0s - loss: 0.0025 - Accuracy: 1.0000 - val_loss: 0.0351 - val_Accuracy: 0.9796 - 44ms/epoch - 4ms/step\n",
      "Epoch 16/100\n",
      "12/12 - 0s - loss: 0.0020 - Accuracy: 1.0000 - val_loss: 0.0330 - val_Accuracy: 0.9796 - 42ms/epoch - 3ms/step\n",
      "Epoch 17/100\n",
      "12/12 - 0s - loss: 0.0016 - Accuracy: 1.0000 - val_loss: 0.0337 - val_Accuracy: 0.9796 - 37ms/epoch - 3ms/step\n",
      "Epoch 18/100\n",
      "12/12 - 0s - loss: 0.0014 - Accuracy: 1.0000 - val_loss: 0.0345 - val_Accuracy: 0.9796 - 41ms/epoch - 3ms/step\n"
     ]
    },
    {
     "data": {
      "text/plain": [
       "<keras.callbacks.History at 0x23d455e0640>"
      ]
     },
     "execution_count": 10,
     "metadata": {},
     "output_type": "execute_result"
    }
   ],
   "source": [
    "input_size = 30\n",
    "output_size = 2\n",
    "hidden_size = 80\n",
    "\n",
    "model = tf.keras.Sequential([\n",
    "    tf.keras.layers.Dense(hidden_size,activation=\"relu\"),\n",
    "    tf.keras.layers.Dense(hidden_size,activation=\"relu\"),\n",
    "    tf.keras.layers.Dense(hidden_size,activation=\"relu\"),\n",
    "    \n",
    "    tf.keras.layers.Dense(output_size,activation=\"softmax\"),\n",
    "    \n",
    "])\n",
    "\n",
    "\n",
    "model.compile(optimizer=\"adam\", loss=\"sparse_categorical_crossentropy\", metrics=[\"Accuracy\"])\n",
    "\n",
    "batch_size = 70\n",
    "\n",
    "max_epochs = 100\n",
    "\n",
    "early_stopping = tf.keras.callbacks.EarlyStopping(patience=2)\n",
    "\n",
    "model.fit(train_inputs,\n",
    "          train_targets,\n",
    "          batch_size=batch_size,\n",
    "          epochs= max_epochs,\n",
    "          callbacks=[early_stopping],\n",
    "          validation_data=(validation_inputs,validation_targets),\n",
    "          verbose=2)"
   ]
  },
  {
   "cell_type": "markdown",
   "id": "641afb47",
   "metadata": {},
   "source": [
    "## Testing the data"
   ]
  },
  {
   "cell_type": "code",
   "execution_count": 11,
   "id": "1558e1f2",
   "metadata": {},
   "outputs": [
    {
     "name": "stdout",
     "output_type": "stream",
     "text": [
      "4/4 [==============================] - 0s 1ms/step - loss: 0.2242 - Accuracy: 0.9596\n"
     ]
    }
   ],
   "source": [
    "test_loss, test_accuracy = model.evaluate(test_inputs,test_targets)"
   ]
  },
  {
   "cell_type": "markdown",
   "id": "b4a6dedf",
   "metadata": {},
   "source": [
    "Our model has a predictive power close to 95%"
   ]
  },
  {
   "cell_type": "code",
   "execution_count": null,
   "id": "220da983",
   "metadata": {},
   "outputs": [],
   "source": []
  },
  {
   "cell_type": "code",
   "execution_count": null,
   "id": "46480ea4",
   "metadata": {},
   "outputs": [],
   "source": []
  },
  {
   "cell_type": "code",
   "execution_count": null,
   "id": "720181dc",
   "metadata": {},
   "outputs": [],
   "source": []
  }
 ],
 "metadata": {
  "kernelspec": {
   "display_name": "Python 3 (ipykernel)",
   "language": "python",
   "name": "python3"
  },
  "language_info": {
   "codemirror_mode": {
    "name": "ipython",
    "version": 3
   },
   "file_extension": ".py",
   "mimetype": "text/x-python",
   "name": "python",
   "nbconvert_exporter": "python",
   "pygments_lexer": "ipython3",
   "version": "3.9.12"
  }
 },
 "nbformat": 4,
 "nbformat_minor": 5
}
