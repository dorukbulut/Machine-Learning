{
 "cells": [
  {
   "cell_type": "code",
   "execution_count": 2,
   "id": "014c91c6",
   "metadata": {},
   "outputs": [],
   "source": [
    "import numpy as np \n",
    "import tensorflow as tf\n"
   ]
  },
  {
   "cell_type": "code",
   "execution_count": 5,
   "id": "a8cf67d2",
   "metadata": {},
   "outputs": [],
   "source": [
    "training_data = np.load(\"cancer_data_train.npz\")\n",
    "train_inputs = training_data[\"inputs\"].astype(np.float64)\n",
    "train_targets = training_data[\"targets\"].astype(np.int32)\n",
    "\n",
    "validation_data = np.load(\"cancer_data_validation.npz\")\n",
    "validation_inputs = validation_data[\"inputs\"].astype(np.float64)\n",
    "validation_targets = validation_data[\"targets\"].astype(np.int32)\n",
    "\n",
    "test_data = np.load(\"cancer_data_test.npz\")\n",
    "test_inputs = test_data[\"inputs\"].astype(np.float64)\n",
    "test_targets = test_data[\"targets\"].astype(np.int32)\n",
    "\n"
   ]
  },
  {
   "cell_type": "markdown",
   "id": "43ea6cbf",
   "metadata": {},
   "source": [
    "## Model"
   ]
  },
  {
   "cell_type": "code",
   "execution_count": 61,
   "id": "9d902645",
   "metadata": {},
   "outputs": [
    {
     "name": "stdout",
     "output_type": "stream",
     "text": [
      "Epoch 1/100\n",
      "10/10 - 1s - loss: 0.4332 - Accuracy: 0.9187 - val_loss: 0.2338 - val_Accuracy: 0.9286 - 668ms/epoch - 67ms/step\n",
      "Epoch 2/100\n",
      "10/10 - 0s - loss: 0.1769 - Accuracy: 0.9516 - val_loss: 0.1515 - val_Accuracy: 0.9286 - 38ms/epoch - 4ms/step\n",
      "Epoch 3/100\n",
      "10/10 - 0s - loss: 0.1238 - Accuracy: 0.9516 - val_loss: 0.1437 - val_Accuracy: 0.9286 - 40ms/epoch - 4ms/step\n",
      "Epoch 4/100\n",
      "10/10 - 0s - loss: 0.1075 - Accuracy: 0.9648 - val_loss: 0.1361 - val_Accuracy: 0.9464 - 42ms/epoch - 4ms/step\n",
      "Epoch 5/100\n",
      "10/10 - 0s - loss: 0.0985 - Accuracy: 0.9582 - val_loss: 0.1106 - val_Accuracy: 0.9643 - 41ms/epoch - 4ms/step\n",
      "Epoch 6/100\n",
      "10/10 - 0s - loss: 0.1024 - Accuracy: 0.9582 - val_loss: 0.1263 - val_Accuracy: 0.9464 - 48ms/epoch - 5ms/step\n",
      "Epoch 7/100\n",
      "10/10 - 0s - loss: 0.0906 - Accuracy: 0.9692 - val_loss: 0.1270 - val_Accuracy: 0.9464 - 49ms/epoch - 5ms/step\n"
     ]
    },
    {
     "data": {
      "text/plain": [
       "<keras.callbacks.History at 0x17d5cc486d0>"
      ]
     },
     "execution_count": 61,
     "metadata": {},
     "output_type": "execute_result"
    }
   ],
   "source": [
    "input_size = 10\n",
    "output_size = 2 \n",
    "hidden_layer_size = 100\n",
    "\n",
    "model = tf.keras.Sequential([\n",
    "    tf.keras.layers.Dense(hidden_layer_size, activation=\"relu\"),\n",
    "    tf.keras.layers.Dense(hidden_layer_size, activation=\"relu\"),\n",
    "    tf.keras.layers.Dense(hidden_layer_size, activation=\"relu\"),\n",
    "    tf.keras.layers.Dense(output_size, activation=\"softmax\"),\n",
    "])\n",
    "\n",
    "\n",
    "model.compile(optimizer=\"adam\", loss=\"sparse_categorical_crossentropy\", metrics=[\"Accuracy\"])\n",
    "\n",
    "batch_size = 50\n",
    "max_epochs = 100\n",
    "\n",
    "early_stopping = tf.keras.callbacks.EarlyStopping(patience=2)\n",
    "\n",
    "model.fit(train_inputs,\n",
    "          train_targets,\n",
    "          batch_size=batch_size,\n",
    "          epochs= max_epochs,\n",
    "          callbacks=[early_stopping],\n",
    "          validation_data=(validation_inputs,validation_targets),\n",
    "          verbose=2)"
   ]
  },
  {
   "cell_type": "markdown",
   "id": "9116d206",
   "metadata": {},
   "source": [
    "## Testing  the model"
   ]
  },
  {
   "cell_type": "code",
   "execution_count": 62,
   "id": "dfe62dc4",
   "metadata": {},
   "outputs": [
    {
     "name": "stdout",
     "output_type": "stream",
     "text": [
      "2/2 [==============================] - 0s 2ms/step - loss: 0.2375 - Accuracy: 0.9138\n"
     ]
    }
   ],
   "source": [
    "test_loss, test_accuracy = model.evaluate(test_inputs,test_targets)"
   ]
  },
  {
   "cell_type": "code",
   "execution_count": null,
   "id": "a835986b",
   "metadata": {},
   "outputs": [],
   "source": []
  }
 ],
 "metadata": {
  "kernelspec": {
   "display_name": "Python 3 (ipykernel)",
   "language": "python",
   "name": "python3"
  },
  "language_info": {
   "codemirror_mode": {
    "name": "ipython",
    "version": 3
   },
   "file_extension": ".py",
   "mimetype": "text/x-python",
   "name": "python",
   "nbconvert_exporter": "python",
   "pygments_lexer": "ipython3",
   "version": "3.9.12"
  }
 },
 "nbformat": 4,
 "nbformat_minor": 5
}
