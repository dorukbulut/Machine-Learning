{
 "cells": [
  {
   "cell_type": "code",
   "execution_count": 1,
   "id": "7eb26da7",
   "metadata": {},
   "outputs": [],
   "source": [
    "import numpy as np\n",
    "import tensorflow as tf\n"
   ]
  },
  {
   "cell_type": "markdown",
   "id": "ce07ea23",
   "metadata": {},
   "source": [
    "## Loading  the data"
   ]
  },
  {
   "cell_type": "code",
   "execution_count": 2,
   "id": "3e0acb14",
   "metadata": {},
   "outputs": [],
   "source": [
    "training_data = np.load(\"audiobooks_data_train.npz\")\n",
    "train_inputs = training_data[\"inputs\"].astype(np.float64)\n",
    "train_targets = training_data[\"targets\"].astype(np.int32)\n",
    "\n",
    "validation_data = np.load(\"audiobooks_data_validation.npz\")\n",
    "validation_inputs = validation_data[\"inputs\"].astype(np.float64)\n",
    "validation_targets = validation_data[\"targets\"].astype(np.int32)\n",
    "\n",
    "test_data = np.load(\"audiobooks_data_test.npz\")\n",
    "test_inputs = test_data[\"inputs\"].astype(np.float64)\n",
    "test_targets = test_data[\"targets\"].astype(np.int32)"
   ]
  },
  {
   "cell_type": "markdown",
   "id": "5c68beb9",
   "metadata": {},
   "source": [
    "## Model\n"
   ]
  },
  {
   "cell_type": "code",
   "execution_count": 9,
   "id": "2dc32680",
   "metadata": {},
   "outputs": [
    {
     "name": "stdout",
     "output_type": "stream",
     "text": [
      "Epoch 1/100\n",
      "36/36 - 1s - loss: 0.5676 - Accuracy: 0.6985 - val_loss: 0.4711 - val_Accuracy: 0.7718 - 847ms/epoch - 24ms/step\n",
      "Epoch 2/100\n",
      "36/36 - 0s - loss: 0.4502 - Accuracy: 0.7681 - val_loss: 0.4081 - val_Accuracy: 0.7919 - 61ms/epoch - 2ms/step\n",
      "Epoch 3/100\n",
      "36/36 - 0s - loss: 0.4037 - Accuracy: 0.7857 - val_loss: 0.3839 - val_Accuracy: 0.7987 - 63ms/epoch - 2ms/step\n",
      "Epoch 4/100\n",
      "36/36 - 0s - loss: 0.3821 - Accuracy: 0.7941 - val_loss: 0.3721 - val_Accuracy: 0.7785 - 64ms/epoch - 2ms/step\n",
      "Epoch 5/100\n",
      "36/36 - 0s - loss: 0.3687 - Accuracy: 0.7958 - val_loss: 0.3582 - val_Accuracy: 0.8076 - 68ms/epoch - 2ms/step\n",
      "Epoch 6/100\n",
      "36/36 - 0s - loss: 0.3580 - Accuracy: 0.8131 - val_loss: 0.3452 - val_Accuracy: 0.8166 - 64ms/epoch - 2ms/step\n",
      "Epoch 7/100\n",
      "36/36 - 0s - loss: 0.3521 - Accuracy: 0.8128 - val_loss: 0.3415 - val_Accuracy: 0.8300 - 68ms/epoch - 2ms/step\n",
      "Epoch 8/100\n",
      "36/36 - 0s - loss: 0.3491 - Accuracy: 0.8092 - val_loss: 0.3390 - val_Accuracy: 0.8098 - 67ms/epoch - 2ms/step\n",
      "Epoch 9/100\n",
      "36/36 - 0s - loss: 0.3448 - Accuracy: 0.8170 - val_loss: 0.3388 - val_Accuracy: 0.8277 - 74ms/epoch - 2ms/step\n",
      "Epoch 10/100\n",
      "36/36 - 0s - loss: 0.3395 - Accuracy: 0.8150 - val_loss: 0.3435 - val_Accuracy: 0.8300 - 78ms/epoch - 2ms/step\n",
      "Epoch 11/100\n",
      "36/36 - 0s - loss: 0.3370 - Accuracy: 0.8167 - val_loss: 0.3279 - val_Accuracy: 0.8255 - 63ms/epoch - 2ms/step\n",
      "Epoch 12/100\n",
      "36/36 - 0s - loss: 0.3332 - Accuracy: 0.8198 - val_loss: 0.3316 - val_Accuracy: 0.8166 - 67ms/epoch - 2ms/step\n",
      "Epoch 13/100\n",
      "36/36 - 0s - loss: 0.3329 - Accuracy: 0.8170 - val_loss: 0.3360 - val_Accuracy: 0.8322 - 69ms/epoch - 2ms/step\n"
     ]
    },
    {
     "data": {
      "text/plain": [
       "<keras.callbacks.History at 0x1aa128d4fa0>"
      ]
     },
     "execution_count": 9,
     "metadata": {},
     "output_type": "execute_result"
    }
   ],
   "source": [
    "input_size = 10\n",
    "output_size = 2\n",
    "hidden_layer_size = 50\n",
    "\n",
    "\n",
    "model = tf.keras.Sequential([\n",
    "                            tf.keras.layers.Dense(hidden_layer_size, activation=\"relu\"),\n",
    "                            tf.keras.layers.Dense(hidden_layer_size, activation=\"relu\"),\n",
    "                           \n",
    "                            \n",
    "                            \n",
    "                            tf.keras.layers.Dense(output_size, activation=\"softmax\")\n",
    "])\n",
    "\n",
    "\n",
    "model.compile(optimizer=\"adam\", loss=\"sparse_categorical_crossentropy\", metrics=[\"Accuracy\"])\n",
    "\n",
    "batch_size = 100\n",
    "max_epochs = 100\n",
    "\n",
    "early_stopping = tf.keras.callbacks.EarlyStopping(patience=2)\n",
    "\n",
    "model.fit(train_inputs,\n",
    "          train_targets,\n",
    "          batch_size=batch_size,\n",
    "          epochs= max_epochs,\n",
    "          callbacks=[early_stopping],\n",
    "          validation_data=(validation_inputs,validation_targets),\n",
    "          verbose=2)"
   ]
  },
  {
   "cell_type": "code",
   "execution_count": null,
   "id": "fd2df615",
   "metadata": {},
   "outputs": [],
   "source": []
  },
  {
   "cell_type": "markdown",
   "id": "86cd8bd3",
   "metadata": {},
   "source": [
    "## Test the model"
   ]
  },
  {
   "cell_type": "code",
   "execution_count": 11,
   "id": "329113cd",
   "metadata": {},
   "outputs": [
    {
     "name": "stdout",
     "output_type": "stream",
     "text": [
      "14/14 [==============================] - 0s 1ms/step - loss: 0.3740 - Accuracy: 0.7991\n"
     ]
    }
   ],
   "source": [
    "test_loss, test_accuracy = model.evaluate(test_inputs,test_targets)"
   ]
  },
  {
   "cell_type": "code",
   "execution_count": null,
   "id": "ffd1dfd9",
   "metadata": {},
   "outputs": [],
   "source": [
    "\n"
   ]
  },
  {
   "cell_type": "code",
   "execution_count": null,
   "id": "8f5ec5f1",
   "metadata": {},
   "outputs": [],
   "source": []
  }
 ],
 "metadata": {
  "kernelspec": {
   "display_name": "Python 3 (ipykernel)",
   "language": "python",
   "name": "python3"
  },
  "language_info": {
   "codemirror_mode": {
    "name": "ipython",
    "version": 3
   },
   "file_extension": ".py",
   "mimetype": "text/x-python",
   "name": "python",
   "nbconvert_exporter": "python",
   "pygments_lexer": "ipython3",
   "version": "3.9.12"
  }
 },
 "nbformat": 4,
 "nbformat_minor": 5
}
