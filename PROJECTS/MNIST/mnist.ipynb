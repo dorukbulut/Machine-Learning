{
 "cells": [
  {
   "cell_type": "code",
   "execution_count": 1,
   "id": "121df9d4",
   "metadata": {},
   "outputs": [],
   "source": [
    "import numpy as np\n",
    "import tensorflow as tf\n",
    "\n",
    "import  tensorflow_datasets as tfds "
   ]
  },
  {
   "cell_type": "code",
   "execution_count": 2,
   "id": "df98db14",
   "metadata": {},
   "outputs": [],
   "source": [
    "mnist_dataset,mnist_info = tfds.load(name=\"mnist\",as_supervised=True,with_info=True)"
   ]
  },
  {
   "cell_type": "code",
   "execution_count": 3,
   "id": "c29f2eac",
   "metadata": {},
   "outputs": [],
   "source": [
    "mnist_train, mnist_test = mnist_dataset[\"train\"], mnist_dataset[\"test\"]\n",
    "\n",
    "num_validation = 0.1 * mnist_info.splits[\"train\"].num_examples\n",
    "num_validation = tf.cast(num_validation ,tf.int64)\n",
    "\n",
    "num_test  = mnist_info.splits[\"test\"].num_examples\n",
    "num_test = tf.cast(num_test ,tf.int64)\n",
    "\n",
    "\n",
    "def scale(image, label):\n",
    "    image = tf.cast(image,tf.float32)\n",
    "    image /= 255.\n",
    "    return image,label\n",
    "\n",
    "\n",
    "scale_train = mnist_train.map(scale)\n",
    "\n",
    "test_data = mnist_test.map(scale)\n",
    "\n",
    "BUFFER_SIZE = 10000\n",
    "\n",
    "shuffle_train  = scale_train.shuffle(BUFFER_SIZE)\n",
    "\n",
    "validation_data = shuffle_train.take(num_validation)\n",
    "train_data = shuffle_train.skip(num_validation)\n",
    "\n",
    "BATCH_SIZE = 100\n",
    "\n",
    "train_data = train_data.batch(BATCH_SIZE)\n",
    "validation_data = validation_data.batch(num_validation)\n",
    "test_data = test_data.batch(num_test)\n",
    "\n",
    "validatio_inputs, validation_targets = next(iter(validation_data))"
   ]
  },
  {
   "cell_type": "code",
   "execution_count": 4,
   "id": "e01ef989",
   "metadata": {},
   "outputs": [],
   "source": [
    "input_size = 784\n",
    "\n",
    "output_size = 10\n",
    "\n",
    "hidden_size = 275\n",
    "\n",
    "early_stopping = tf.keras.callbacks.EarlyStopping(patience=2)\n",
    "\n",
    "model = tf.keras.Sequential([\n",
    "    tf.keras.layers.Flatten(input_shape=(28,28,1)),\n",
    "    tf.keras.layers.Dense(hidden_size,activation='relu'),\n",
    "    tf.keras.layers.Dense(hidden_size,activation='relu'),\n",
    "    tf.keras.layers.Dense(output_size,activation='softmax'),\n",
    "    \n",
    "])\n"
   ]
  },
  {
   "cell_type": "code",
   "execution_count": 6,
   "id": "7dba1d0d",
   "metadata": {},
   "outputs": [],
   "source": [
    "\n",
    "model.compile(optimizer=\"adam\", loss=\"sparse_categorical_crossentropy\", metrics=[\"accuracy\"])"
   ]
  },
  {
   "cell_type": "code",
   "execution_count": null,
   "id": "fb121cea",
   "metadata": {},
   "outputs": [
    {
     "name": "stdout",
     "output_type": "stream",
     "text": [
      "Epoch 1/5\n",
      "540/540 - 4s - loss: 0.2541 - accuracy: 0.9264 - val_loss: 0.1219 - val_accuracy: 0.9618 - 4s/epoch - 7ms/step\n",
      "Epoch 2/5\n",
      "540/540 - 2s - loss: 0.0973 - accuracy: 0.9697 - val_loss: 0.0760 - val_accuracy: 0.9765 - 2s/epoch - 4ms/step\n",
      "Epoch 3/5\n",
      "540/540 - 3s - loss: 0.0638 - accuracy: 0.9796 - val_loss: 0.0666 - val_accuracy: 0.9795 - 3s/epoch - 6ms/step\n",
      "Epoch 4/5\n"
     ]
    }
   ],
   "source": [
    "num_epochs = 5\n",
    "\n",
    "model.fit(train_data, epochs=num_epochs, validation_data=(validatio_inputs, validation_targets),verbose=2,callbacks=[early_stopping])"
   ]
  },
  {
   "cell_type": "code",
   "execution_count": null,
   "id": "dafdf576",
   "metadata": {},
   "outputs": [],
   "source": [
    "test_loss, test_accuracy = model.evaluate(test_data)"
   ]
  },
  {
   "cell_type": "code",
   "execution_count": null,
   "id": "1a4c7767",
   "metadata": {},
   "outputs": [],
   "source": [
    "print(\"Test Loss : {0:.2f}. Test accuracy: {1:.2f}%\".format(test_loss, test_accuracy *100))"
   ]
  },
  {
   "cell_type": "code",
   "execution_count": null,
   "id": "74370dce",
   "metadata": {},
   "outputs": [],
   "source": []
  }
 ],
 "metadata": {
  "kernelspec": {
   "display_name": "Python 3 (ipykernel)",
   "language": "python",
   "name": "python3"
  },
  "language_info": {
   "codemirror_mode": {
    "name": "ipython",
    "version": 3
   },
   "file_extension": ".py",
   "mimetype": "text/x-python",
   "name": "python",
   "nbconvert_exporter": "python",
   "pygments_lexer": "ipython3",
   "version": "3.9.12"
  }
 },
 "nbformat": 4,
 "nbformat_minor": 5
}
